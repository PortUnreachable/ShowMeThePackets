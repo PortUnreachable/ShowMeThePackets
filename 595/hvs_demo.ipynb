{
 "cells": [
  {
   "cell_type": "code",
   "execution_count": 1,
   "metadata": {},
   "outputs": [
    {
     "name": "stderr",
     "output_type": "stream",
     "text": [
      "2024-04-05 19:59:01.998660: I tensorflow/core/util/port.cc:113] oneDNN custom operations are on. You may see slightly different numerical results due to floating-point round-off errors from different computation orders. To turn them off, set the environment variable `TF_ENABLE_ONEDNN_OPTS=0`.\n",
      "2024-04-05 19:59:01.998930: I external/local_tsl/tsl/cuda/cudart_stub.cc:32] Could not find cuda drivers on your machine, GPU will not be used.\n",
      "2024-04-05 19:59:02.000731: I external/local_tsl/tsl/cuda/cudart_stub.cc:32] Could not find cuda drivers on your machine, GPU will not be used.\n",
      "2024-04-05 19:59:02.024102: I tensorflow/core/platform/cpu_feature_guard.cc:210] This TensorFlow binary is optimized to use available CPU instructions in performance-critical operations.\n",
      "To enable the following instructions: AVX2 AVX512F AVX512_VNNI FMA, in other operations, rebuild TensorFlow with the appropriate compiler flags.\n",
      "2024-04-05 19:59:02.456334: W tensorflow/compiler/tf2tensorrt/utils/py_utils.cc:38] TF-TRT Warning: Could not find TensorRT\n"
     ]
    }
   ],
   "source": [
    "# Our intention here is to reimplement the BoW Ham v Spam\n",
    "# solution using the TextVectorization layer, which will\n",
    "# allow us to easily deploy the model to a tfserving container.\n",
    "\n",
    "import numpy as np         # Needed because.. NumPy\n",
    "import os                  # We will iterate over directories\n",
    "import re                  # needed to clean the email\n",
    "import tensorflow as tf\n",
    "from tensorflow.keras import models\n",
    "from tensorflow.keras import layers\n"
   ]
  },
  {
   "cell_type": "code",
   "execution_count": 2,
   "metadata": {},
   "outputs": [],
   "source": [
    "# Using our simple directory traveral file finder function\n",
    "# to find all instances of both classes and translate them\n",
    "# to a data directory that we can feed to a tensorflow dataset.\n",
    "\n",
    "def get_file_list(starting_directory):\n",
    "    final_list = list()\n",
    "    files = os.listdir(starting_directory)\n",
    "    for file in files:\n",
    "        file_name = os.path.join(starting_directory, file)\n",
    "        if os.path.isdir(file_name):\n",
    "            final_list = final_list + get_file_list(file_name)\n",
    "        else:\n",
    "            final_list.append(file_name)\n",
    "    return final_list\n"
   ]
  },
  {
   "cell_type": "code",
   "execution_count": 6,
   "metadata": {},
   "outputs": [],
   "source": [
    "# Reusing our existing get_words function. This will strip out\n",
    "# the headers, keeping only the message data.\n",
    "#\n",
    "# This has been adjusted to leave the text as-is except for the\n",
    "# headers since we will allow the TextVectorization layer to\n",
    "# do the rest of the data normalization.\n",
    "\n",
    "def get_words(file_name):\n",
    "    # We'll use a regular expression to find things that are not words or spaces.\n",
    "    regex = re.compile(\"[^\\w\\s]\")\n",
    "    # Start with an empty list\n",
    "    words = list()\n",
    "    # Open the specified file\n",
    "    with open(file_name, encoding='utf8', errors='ignore') as f:\n",
    "        # Grab all of the lines\n",
    "        text = f.readlines()\n",
    "        # Set a flag to keep track of whether we have reached the body or not.\n",
    "        finished_header = False\n",
    "        # Iterate over the lines\n",
    "        for line in text:\n",
    "            # The last line in the headers is consistently the subject line.  If\n",
    "            # we have not yet seen the subject then we are still parsing headers\n",
    "            # and should ignore them.\n",
    "            if finished_header:\n",
    "                words.append(line)\n",
    "            # Check to see if the beginning of the line contains \"subject:\"\n",
    "            # to determine if we have reached the end of the email header.\n",
    "            elif line.lower() == \"\\n\":\n",
    "                # If we have, set the flag\n",
    "                finished_header = True\n",
    "    return words\n"
   ]
  },
  {
   "cell_type": "code",
   "execution_count": 7,
   "metadata": {},
   "outputs": [],
   "source": [
    "# We want to leverage tf.keras.preprocessing.text_dataset_from_directory()\n",
    "#\n",
    "# To do this, we must preprocess each email into a separate file. The files\n",
    "# must have the '.txt' extension or they will not be recognied. The files must\n",
    "# be in directories named 'ham' and 'spam' respectively.\n",
    "\n",
    "output_dir = './training'\n",
    "for data_class in ['ham', 'spam']:\n",
    "    path = os.path.join(output_dir, data_class)\n",
    "    for index, file in enumerate(get_file_list(os.path.join(\"./Enron\",data_class))):\n",
    "        words = get_words(file)\n",
    "        with open(os.path.join(path, f'{index:>06}.txt'), 'w') as f:\n",
    "            f.write(' '.join(words))\n",
    "            "
   ]
  },
  {
   "cell_type": "code",
   "execution_count": 8,
   "metadata": {},
   "outputs": [
    {
     "name": "stdout",
     "output_type": "stream",
     "text": [
      "Found 31716 files belonging to 2 classes.\n"
     ]
    }
   ],
   "source": [
    "# We can create the dataset from this directory:\n",
    "ds = tf.keras.preprocessing.text_dataset_from_directory(\n",
    "    output_dir,\n",
    "    labels='inferred',\n",
    "    label_mode='binary',\n",
    "    shuffle=True,\n",
    "    verbose=True\n",
    ")"
   ]
  },
  {
   "cell_type": "code",
   "execution_count": 11,
   "metadata": {},
   "outputs": [
    {
     "name": "stderr",
     "output_type": "stream",
     "text": [
      "2024-04-05 20:24:08.261631: W tensorflow/core/framework/local_rendezvous.cc:404] Local rendezvous is aborting with status: OUT_OF_RANGE: End of sequence\n"
     ]
    }
   ],
   "source": [
    "# We can now create and adapt the TextVectorization layer.\n",
    "# This layer can perform many different tasks. We will use it\n",
    "# to learn the vocabulary and reencode the data as multihot encoded\n",
    "# for bag of words.\n",
    "\n",
    "text_layer = tf.keras.layers.TextVectorization(\n",
    "    max_tokens=10000,\n",
    "    standardize='lower_and_strip_punctuation',\n",
    "    split='whitespace',\n",
    "    ngrams=None,\n",
    "    output_mode='multi_hot',\n",
    "    output_sequence_length=None,\n",
    "    pad_to_max_tokens=True,\n",
    "    vocabulary=None,\n",
    "    idf_weights=None,\n",
    "    sparse=False,\n",
    "    ragged=False,\n",
    "    encoding='utf-8',\n",
    ")\n",
    "\n",
    "# The TextVectorization.adapt() function expects to get strings.\n",
    "# The dataset is currently strings and labels.  We can map the\n",
    "# dataset through a lambda to return only the texts:\n",
    "\n",
    "train_text = ds.map(lambda x, y: x)\n",
    "\n",
    "text_layer.adapt(train_text)"
   ]
  },
  {
   "cell_type": "code",
   "execution_count": 14,
   "metadata": {},
   "outputs": [
    {
     "name": "stdout",
     "output_type": "stream",
     "text": [
      "Epoch 1/10\n",
      "\u001b[1m992/992\u001b[0m \u001b[32m━━━━━━━━━━━━━━━━━━━━\u001b[0m\u001b[37m\u001b[0m \u001b[1m4s\u001b[0m 4ms/step - accuracy: 0.9768 - loss: 0.0913\n",
      "Epoch 2/10\n",
      "\u001b[1m992/992\u001b[0m \u001b[32m━━━━━━━━━━━━━━━━━━━━\u001b[0m\u001b[37m\u001b[0m \u001b[1m4s\u001b[0m 4ms/step - accuracy: 0.9957 - loss: 0.0105\n",
      "Epoch 3/10\n",
      "\u001b[1m992/992\u001b[0m \u001b[32m━━━━━━━━━━━━━━━━━━━━\u001b[0m\u001b[37m\u001b[0m \u001b[1m4s\u001b[0m 4ms/step - accuracy: 0.9984 - loss: 0.0044\n",
      "Epoch 4/10\n",
      "\u001b[1m992/992\u001b[0m \u001b[32m━━━━━━━━━━━━━━━━━━━━\u001b[0m\u001b[37m\u001b[0m \u001b[1m4s\u001b[0m 4ms/step - accuracy: 0.9966 - loss: 0.0114\n",
      "Epoch 5/10\n",
      "\u001b[1m992/992\u001b[0m \u001b[32m━━━━━━━━━━━━━━━━━━━━\u001b[0m\u001b[37m\u001b[0m \u001b[1m4s\u001b[0m 4ms/step - accuracy: 0.9983 - loss: 0.0043\n",
      "Epoch 6/10\n",
      "\u001b[1m992/992\u001b[0m \u001b[32m━━━━━━━━━━━━━━━━━━━━\u001b[0m\u001b[37m\u001b[0m \u001b[1m4s\u001b[0m 4ms/step - accuracy: 0.9986 - loss: 0.0031\n",
      "Epoch 7/10\n",
      "\u001b[1m992/992\u001b[0m \u001b[32m━━━━━━━━━━━━━━━━━━━━\u001b[0m\u001b[37m\u001b[0m \u001b[1m4s\u001b[0m 4ms/step - accuracy: 0.9989 - loss: 0.0024\n",
      "Epoch 8/10\n",
      "\u001b[1m992/992\u001b[0m \u001b[32m━━━━━━━━━━━━━━━━━━━━\u001b[0m\u001b[37m\u001b[0m \u001b[1m4s\u001b[0m 4ms/step - accuracy: 0.9988 - loss: 0.0024\n",
      "Epoch 9/10\n",
      "\u001b[1m992/992\u001b[0m \u001b[32m━━━━━━━━━━━━━━━━━━━━\u001b[0m\u001b[37m\u001b[0m \u001b[1m4s\u001b[0m 4ms/step - accuracy: 0.9989 - loss: 0.0024\n",
      "Epoch 10/10\n",
      "\u001b[1m992/992\u001b[0m \u001b[32m━━━━━━━━━━━━━━━━━━━━\u001b[0m\u001b[37m\u001b[0m \u001b[1m4s\u001b[0m 4ms/step - accuracy: 0.9988 - loss: 0.0024\n"
     ]
    }
   ],
   "source": [
    "tf.random.set_seed(42)\n",
    "model = models.Sequential()\n",
    "model.add(text_layer)\n",
    "model.add(layers.Dense(64, activation='relu'))\n",
    "model.add(layers.Dense(64, activation='relu'))\n",
    "model.add(layers.Dense(1, name=\"Output_Layer\", activation='sigmoid'))\n",
    "\n",
    "model.compile(optimizer='adam', loss='binary_crossentropy', metrics=['accuracy'])\n",
    "training_history = model.fit(ds, epochs = 10, batch_size = 32)"
   ]
  }
 ],
 "metadata": {
  "kernelspec": {
   "display_name": "Python 3 (ipykernel)",
   "language": "python",
   "name": "python3"
  },
  "language_info": {
   "codemirror_mode": {
    "name": "ipython",
    "version": 3
   },
   "file_extension": ".py",
   "mimetype": "text/x-python",
   "name": "python",
   "nbconvert_exporter": "python",
   "pygments_lexer": "ipython3",
   "version": "3.10.14"
  }
 },
 "nbformat": 4,
 "nbformat_minor": 4
}
